{
 "cells": [
  {
   "cell_type": "markdown",
   "metadata": {},
   "source": [
    "# Welcome to Seaborn"
   ]
  },
  {
   "cell_type": "markdown",
   "metadata": {},
   "source": [
    "- > Seaborn is a Python data visualization library based on matplotlib.  It provides a high-level interface for drawing attractive and informative statistical graphics\n",
    "- > Seaborn provides a visually appealing plotting style and ***concise*** syntax.\n",
    "- > Seaborn natively understands Pandas DataFrames, making it easier to plot data directly from CSVs.\n",
    "- >Seaborn can easily summarize Pandas DataFrames with many rows of data into aggregated charts."
   ]
  },
  {
   "cell_type": "markdown",
   "metadata": {},
   "source": [
    "# 1.0 Housekeeping"
   ]
  },
  {
   "cell_type": "markdown",
   "metadata": {},
   "source": [
    "## 1.1 Importing and Installing Packages and Libraries"
   ]
  },
  {
   "cell_type": "code",
   "execution_count": 1,
   "metadata": {},
   "outputs": [],
   "source": [
    "# Seaborn has dependencies on other python libraries and must be imported along with them \n",
    "\n",
    "# import os #provides functions for interacting with the operating system\n",
    "import numpy as np \n",
    "import pandas as pd\n",
    "\n"
   ]
  },
  {
   "cell_type": "markdown",
   "metadata": {},
   "source": [
    "- > MATLAB® combines a desktop environment tuned for iterative analysis and design processes with a programming language that expresses matrix and array mathematics directly. It's a paid product.\n",
    "\n",
    "- > Matplotlib is a comprehensive library for creating static, animated, and interactive visualizations in Python.\n",
    " \n",
    "- > Pyplot is a collection of command style functions that make matplotlib work like MATLAB®. Each pyplot function makes some change to a figure: e.g., creates a figure, creates a plotting area in a figure, plots some lines in a plotting area, decorates the plot with labels, etc"
   ]
  },
  {
   "cell_type": "code",
   "execution_count": 2,
   "metadata": {},
   "outputs": [],
   "source": [
    "# Seaborn is built on top of Matplotlib  \n",
    "# It builds on top of Matplotlib, introducing additional plot types and visual improvements\n",
    "# It is an extension to it, not a substitute\n",
    "\n",
    "from matplotlib import pyplot as plt\n",
    "import seaborn as sns"
   ]
  },
  {
   "cell_type": "markdown",
   "metadata": {},
   "source": [
    "## 1.2 Importing the Dataframe"
   ]
  },
  {
   "cell_type": "code",
   "execution_count": 4,
   "metadata": {},
   "outputs": [
    {
     "ename": "OSError",
     "evalue": "Initializing from file failed",
     "output_type": "error",
     "traceback": [
      "\u001b[1;31m---------------------------------------------------------------------------\u001b[0m",
      "\u001b[1;31mOSError\u001b[0m                                   Traceback (most recent call last)",
      "\u001b[1;32m<ipython-input-4-a16666c2ad79>\u001b[0m in \u001b[0;36m<module>\u001b[1;34m\u001b[0m\n\u001b[0;32m      2\u001b[0m \u001b[1;31m# Remember to input file path as a 'string'\u001b[0m\u001b[1;33m\u001b[0m\u001b[1;33m\u001b[0m\u001b[1;33m\u001b[0m\u001b[0m\n\u001b[0;32m      3\u001b[0m \u001b[1;33m\u001b[0m\u001b[0m\n\u001b[1;32m----> 4\u001b[1;33m \u001b[0mdataframe\u001b[0m \u001b[1;33m=\u001b[0m \u001b[0mpd\u001b[0m\u001b[1;33m.\u001b[0m\u001b[0mread_csv\u001b[0m\u001b[1;33m(\u001b[0m\u001b[1;34m'C:\\\\Users\\\\Vadim\\\\Desktop\\\\python projects\\\\seaborn_tutorial'\u001b[0m\u001b[1;33m)\u001b[0m\u001b[1;33m\u001b[0m\u001b[1;33m\u001b[0m\u001b[0m\n\u001b[0m\u001b[0;32m      5\u001b[0m \u001b[1;33m\u001b[0m\u001b[0m\n\u001b[0;32m      6\u001b[0m \u001b[1;31m# run the data\u001b[0m\u001b[1;33m\u001b[0m\u001b[1;33m\u001b[0m\u001b[1;33m\u001b[0m\u001b[0m\n",
      "\u001b[1;32mC:\\ProgramData\\Anaconda3\\lib\\site-packages\\pandas\\io\\parsers.py\u001b[0m in \u001b[0;36mparser_f\u001b[1;34m(filepath_or_buffer, sep, delimiter, header, names, index_col, usecols, squeeze, prefix, mangle_dupe_cols, dtype, engine, converters, true_values, false_values, skipinitialspace, skiprows, skipfooter, nrows, na_values, keep_default_na, na_filter, verbose, skip_blank_lines, parse_dates, infer_datetime_format, keep_date_col, date_parser, dayfirst, iterator, chunksize, compression, thousands, decimal, lineterminator, quotechar, quoting, doublequote, escapechar, comment, encoding, dialect, tupleize_cols, error_bad_lines, warn_bad_lines, delim_whitespace, low_memory, memory_map, float_precision)\u001b[0m\n\u001b[0;32m    700\u001b[0m                     skip_blank_lines=skip_blank_lines)\n\u001b[0;32m    701\u001b[0m \u001b[1;33m\u001b[0m\u001b[0m\n\u001b[1;32m--> 702\u001b[1;33m         \u001b[1;32mreturn\u001b[0m \u001b[0m_read\u001b[0m\u001b[1;33m(\u001b[0m\u001b[0mfilepath_or_buffer\u001b[0m\u001b[1;33m,\u001b[0m \u001b[0mkwds\u001b[0m\u001b[1;33m)\u001b[0m\u001b[1;33m\u001b[0m\u001b[1;33m\u001b[0m\u001b[0m\n\u001b[0m\u001b[0;32m    703\u001b[0m \u001b[1;33m\u001b[0m\u001b[0m\n\u001b[0;32m    704\u001b[0m     \u001b[0mparser_f\u001b[0m\u001b[1;33m.\u001b[0m\u001b[0m__name__\u001b[0m \u001b[1;33m=\u001b[0m \u001b[0mname\u001b[0m\u001b[1;33m\u001b[0m\u001b[1;33m\u001b[0m\u001b[0m\n",
      "\u001b[1;32mC:\\ProgramData\\Anaconda3\\lib\\site-packages\\pandas\\io\\parsers.py\u001b[0m in \u001b[0;36m_read\u001b[1;34m(filepath_or_buffer, kwds)\u001b[0m\n\u001b[0;32m    427\u001b[0m \u001b[1;33m\u001b[0m\u001b[0m\n\u001b[0;32m    428\u001b[0m     \u001b[1;31m# Create the parser.\u001b[0m\u001b[1;33m\u001b[0m\u001b[1;33m\u001b[0m\u001b[1;33m\u001b[0m\u001b[0m\n\u001b[1;32m--> 429\u001b[1;33m     \u001b[0mparser\u001b[0m \u001b[1;33m=\u001b[0m \u001b[0mTextFileReader\u001b[0m\u001b[1;33m(\u001b[0m\u001b[0mfilepath_or_buffer\u001b[0m\u001b[1;33m,\u001b[0m \u001b[1;33m**\u001b[0m\u001b[0mkwds\u001b[0m\u001b[1;33m)\u001b[0m\u001b[1;33m\u001b[0m\u001b[1;33m\u001b[0m\u001b[0m\n\u001b[0m\u001b[0;32m    430\u001b[0m \u001b[1;33m\u001b[0m\u001b[0m\n\u001b[0;32m    431\u001b[0m     \u001b[1;32mif\u001b[0m \u001b[0mchunksize\u001b[0m \u001b[1;32mor\u001b[0m \u001b[0miterator\u001b[0m\u001b[1;33m:\u001b[0m\u001b[1;33m\u001b[0m\u001b[1;33m\u001b[0m\u001b[0m\n",
      "\u001b[1;32mC:\\ProgramData\\Anaconda3\\lib\\site-packages\\pandas\\io\\parsers.py\u001b[0m in \u001b[0;36m__init__\u001b[1;34m(self, f, engine, **kwds)\u001b[0m\n\u001b[0;32m    893\u001b[0m             \u001b[0mself\u001b[0m\u001b[1;33m.\u001b[0m\u001b[0moptions\u001b[0m\u001b[1;33m[\u001b[0m\u001b[1;34m'has_index_names'\u001b[0m\u001b[1;33m]\u001b[0m \u001b[1;33m=\u001b[0m \u001b[0mkwds\u001b[0m\u001b[1;33m[\u001b[0m\u001b[1;34m'has_index_names'\u001b[0m\u001b[1;33m]\u001b[0m\u001b[1;33m\u001b[0m\u001b[1;33m\u001b[0m\u001b[0m\n\u001b[0;32m    894\u001b[0m \u001b[1;33m\u001b[0m\u001b[0m\n\u001b[1;32m--> 895\u001b[1;33m         \u001b[0mself\u001b[0m\u001b[1;33m.\u001b[0m\u001b[0m_make_engine\u001b[0m\u001b[1;33m(\u001b[0m\u001b[0mself\u001b[0m\u001b[1;33m.\u001b[0m\u001b[0mengine\u001b[0m\u001b[1;33m)\u001b[0m\u001b[1;33m\u001b[0m\u001b[1;33m\u001b[0m\u001b[0m\n\u001b[0m\u001b[0;32m    896\u001b[0m \u001b[1;33m\u001b[0m\u001b[0m\n\u001b[0;32m    897\u001b[0m     \u001b[1;32mdef\u001b[0m \u001b[0mclose\u001b[0m\u001b[1;33m(\u001b[0m\u001b[0mself\u001b[0m\u001b[1;33m)\u001b[0m\u001b[1;33m:\u001b[0m\u001b[1;33m\u001b[0m\u001b[1;33m\u001b[0m\u001b[0m\n",
      "\u001b[1;32mC:\\ProgramData\\Anaconda3\\lib\\site-packages\\pandas\\io\\parsers.py\u001b[0m in \u001b[0;36m_make_engine\u001b[1;34m(self, engine)\u001b[0m\n\u001b[0;32m   1120\u001b[0m     \u001b[1;32mdef\u001b[0m \u001b[0m_make_engine\u001b[0m\u001b[1;33m(\u001b[0m\u001b[0mself\u001b[0m\u001b[1;33m,\u001b[0m \u001b[0mengine\u001b[0m\u001b[1;33m=\u001b[0m\u001b[1;34m'c'\u001b[0m\u001b[1;33m)\u001b[0m\u001b[1;33m:\u001b[0m\u001b[1;33m\u001b[0m\u001b[1;33m\u001b[0m\u001b[0m\n\u001b[0;32m   1121\u001b[0m         \u001b[1;32mif\u001b[0m \u001b[0mengine\u001b[0m \u001b[1;33m==\u001b[0m \u001b[1;34m'c'\u001b[0m\u001b[1;33m:\u001b[0m\u001b[1;33m\u001b[0m\u001b[1;33m\u001b[0m\u001b[0m\n\u001b[1;32m-> 1122\u001b[1;33m             \u001b[0mself\u001b[0m\u001b[1;33m.\u001b[0m\u001b[0m_engine\u001b[0m \u001b[1;33m=\u001b[0m \u001b[0mCParserWrapper\u001b[0m\u001b[1;33m(\u001b[0m\u001b[0mself\u001b[0m\u001b[1;33m.\u001b[0m\u001b[0mf\u001b[0m\u001b[1;33m,\u001b[0m \u001b[1;33m**\u001b[0m\u001b[0mself\u001b[0m\u001b[1;33m.\u001b[0m\u001b[0moptions\u001b[0m\u001b[1;33m)\u001b[0m\u001b[1;33m\u001b[0m\u001b[1;33m\u001b[0m\u001b[0m\n\u001b[0m\u001b[0;32m   1123\u001b[0m         \u001b[1;32melse\u001b[0m\u001b[1;33m:\u001b[0m\u001b[1;33m\u001b[0m\u001b[1;33m\u001b[0m\u001b[0m\n\u001b[0;32m   1124\u001b[0m             \u001b[1;32mif\u001b[0m \u001b[0mengine\u001b[0m \u001b[1;33m==\u001b[0m \u001b[1;34m'python'\u001b[0m\u001b[1;33m:\u001b[0m\u001b[1;33m\u001b[0m\u001b[1;33m\u001b[0m\u001b[0m\n",
      "\u001b[1;32mC:\\ProgramData\\Anaconda3\\lib\\site-packages\\pandas\\io\\parsers.py\u001b[0m in \u001b[0;36m__init__\u001b[1;34m(self, src, **kwds)\u001b[0m\n\u001b[0;32m   1851\u001b[0m         \u001b[0mkwds\u001b[0m\u001b[1;33m[\u001b[0m\u001b[1;34m'usecols'\u001b[0m\u001b[1;33m]\u001b[0m \u001b[1;33m=\u001b[0m \u001b[0mself\u001b[0m\u001b[1;33m.\u001b[0m\u001b[0musecols\u001b[0m\u001b[1;33m\u001b[0m\u001b[1;33m\u001b[0m\u001b[0m\n\u001b[0;32m   1852\u001b[0m \u001b[1;33m\u001b[0m\u001b[0m\n\u001b[1;32m-> 1853\u001b[1;33m         \u001b[0mself\u001b[0m\u001b[1;33m.\u001b[0m\u001b[0m_reader\u001b[0m \u001b[1;33m=\u001b[0m \u001b[0mparsers\u001b[0m\u001b[1;33m.\u001b[0m\u001b[0mTextReader\u001b[0m\u001b[1;33m(\u001b[0m\u001b[0msrc\u001b[0m\u001b[1;33m,\u001b[0m \u001b[1;33m**\u001b[0m\u001b[0mkwds\u001b[0m\u001b[1;33m)\u001b[0m\u001b[1;33m\u001b[0m\u001b[1;33m\u001b[0m\u001b[0m\n\u001b[0m\u001b[0;32m   1854\u001b[0m         \u001b[0mself\u001b[0m\u001b[1;33m.\u001b[0m\u001b[0munnamed_cols\u001b[0m \u001b[1;33m=\u001b[0m \u001b[0mself\u001b[0m\u001b[1;33m.\u001b[0m\u001b[0m_reader\u001b[0m\u001b[1;33m.\u001b[0m\u001b[0munnamed_cols\u001b[0m\u001b[1;33m\u001b[0m\u001b[1;33m\u001b[0m\u001b[0m\n\u001b[0;32m   1855\u001b[0m \u001b[1;33m\u001b[0m\u001b[0m\n",
      "\u001b[1;32mpandas/_libs/parsers.pyx\u001b[0m in \u001b[0;36mpandas._libs.parsers.TextReader.__cinit__\u001b[1;34m()\u001b[0m\n",
      "\u001b[1;32mpandas/_libs/parsers.pyx\u001b[0m in \u001b[0;36mpandas._libs.parsers.TextReader._setup_parser_source\u001b[1;34m()\u001b[0m\n",
      "\u001b[1;31mOSError\u001b[0m: Initializing from file failed"
     ]
    }
   ],
   "source": [
    "# Remember that double backslashes are required on pc\n",
    "# Remember to input file path as a 'string'\n",
    "\n",
    "dataframe = pd.read_csv('C:\\\\Users\\\\Vadim\\\\Desktop\\\\python projects\\\\se')\n",
    "\n",
    "# run the data \n",
    "\n",
    "# dataframe\n",
    "\n",
    "# explore the dataframe with pandas\n",
    "\n",
    "#dataframe.shape\n",
    "#dataframe.describe()\n",
    "#dataframe.info()\n",
    "#dataframe.head()\n",
    "#dataframe.columns # your new best friend\n"
   ]
  },
  {
   "cell_type": "markdown",
   "metadata": {},
   "source": [
    "# Now you're ready to play with Seaborn!"
   ]
  },
  {
   "cell_type": "markdown",
   "metadata": {},
   "source": [
    "# 2.0 Plot Dimensions, Style and Context"
   ]
  },
  {
   "cell_type": "markdown",
   "metadata": {},
   "source": [
    "- > Making intentional decisions about the details of the visualization will increase their impact and set your work apart.\n",
    "- > Customize the overall look of your figure, using background colors, grids, spines, and ticks.\n",
    "- > When deciding how to style your figures, you should take into consideration your audience and the context. \n",
    "- > Is your visualization part of a report and needs to convey specific information? Or is it part of a presentation? \n",
    "- > Is your visualization meant as its own stand-alone, with no narrator in front of it, and no other visualizations to compare it to?"
   ]
  },
  {
   "cell_type": "markdown",
   "metadata": {},
   "source": [
    "## 2.1 Dimesnsions, Orientatation and Simple Boxplot"
   ]
  },
  {
   "cell_type": "code",
   "execution_count": null,
   "metadata": {},
   "outputs": [],
   "source": [
    "# Perform analysis on a single variable\n",
    "# 1. Create a lsit from the column\n",
    "\n",
    "x = dataframe['Revenue'].values\n",
    "\n",
    "# notice the way it's written x = dataframe_name['Column_names'].values\n"
   ]
  },
  {
   "cell_type": "code",
   "execution_count": null,
   "metadata": {},
   "outputs": [],
   "source": [
    "# 2. set your size parameteters ahead of the boxplot\n",
    "\n",
    "sns.set(rc={'figure.figsize': (16,3)})\n",
    "\n",
    "# this command changes the dimensions of all following plots unless explicitly re-stated"
   ]
  },
  {
   "cell_type": "code",
   "execution_count": null,
   "metadata": {},
   "outputs": [],
   "source": [
    "# 3. add boxplot \n",
    "sns.boxplot(x)\n",
    "\n",
    "# plt.show() #this is not needed with Jupyter notebook but can be useful in other contexts\n",
    "\n",
    "# orient = 'h' switches orientation to vertical\n",
    "# orient = 'h' switches orientation to horizontal\n",
    "#sns.boxplot(x, orient = 'v')\n",
    "\n",
    "# The line in the middle signifies the median\n",
    "# Check your median value with python \n",
    "# print(dataframe['Revenue'].median())\n",
    "# Check your median value with python\n",
    "# print(dataframe['Revenue'].mean())"
   ]
  },
  {
   "cell_type": "markdown",
   "metadata": {},
   "source": [
    "## 2.2 Style, Color and Grid"
   ]
  },
  {
   "cell_type": "markdown",
   "metadata": {},
   "source": [
    "- > Seaborn has five built-in themes to style its plots: **darkgrid, whitegrid, dark, white,** and **ticks**. \n",
    "- > Seaborn defaults to using the **darkgrid** theme for its plots.\n",
    "- > You can select the theme with the **sns.set_style(\" \")** function"
   ]
  },
  {
   "cell_type": "code",
   "execution_count": null,
   "metadata": {},
   "outputs": [],
   "source": [
    "sns.set_style(\"whitegrid\")\n",
    "\n",
    "# Try running the same function with darkgrid, whitegrid, dark, white, or ticks\n",
    "# this command changes the styles of all following plots unless explicitly re-stated"
   ]
  },
  {
   "cell_type": "markdown",
   "metadata": {},
   "source": [
    "- > Selecting color"
   ]
  },
  {
   "cell_type": "code",
   "execution_count": null,
   "metadata": {},
   "outputs": [],
   "source": [
    "sns.boxplot(x)\n",
    "\n",
    "sns.boxplot(x, color = '#5E00FF')\n",
    "\n",
    "# color = 'green' to change colors \n",
    "# https://htmlcolorcodes.com/color-picker/ and choose the color you want with the hex code #560FE5"
   ]
  },
  {
   "cell_type": "markdown",
   "metadata": {},
   "source": [
    "##  2.3 Context"
   ]
  },
  {
   "cell_type": "markdown",
   "metadata": {},
   "source": [
    "- > Seaborn has four presets which set the size of the plot and allow you to customize your figure depending on how it will be presented.\n",
    "- > In order of relative size they are: **paper, notebook, talk, and poster**. \n",
    "- > The notebook style is the default."
   ]
  },
  {
   "cell_type": "code",
   "execution_count": null,
   "metadata": {},
   "outputs": [],
   "source": [
    "# after setting style we can set context scale of plot, scale and font size\n",
    "\n",
    "# the order of operations is important as these commands modify the same variables\n",
    "sns.set(rc={'figure.figsize': (16,3)})\n",
    "sns.set_style(\"whitegrid\")\n",
    "sns.set_context(\"poster\")\n",
    "\n",
    "\n",
    "\n",
    "sns.boxplot(x)"
   ]
  },
  {
   "cell_type": "markdown",
   "metadata": {},
   "source": [
    "## 2.4 Custom Context"
   ]
  },
  {
   "cell_type": "code",
   "execution_count": null,
   "metadata": {
    "scrolled": true
   },
   "outputs": [],
   "source": [
    "# sns.set(rc={'figure.figsize': (16,3)})\n",
    "sns.set_context(\"poster\")\n",
    "\n",
    "# Play around with these settings \n",
    "# sns.set_context(\"poster\", font_scale = 2.0, rc={\"grid.linewidth\": 10.0})\n",
    "\n",
    "# run the plot function last to incorporate changes\n",
    "sns.boxplot(x)\n",
    "\n",
    "#This can however, look pretty stupid"
   ]
  },
  {
   "cell_type": "markdown",
   "metadata": {},
   "source": [
    "## 2.4 Despine (not just for Sub Zero anymore)"
   ]
  },
  {
   "cell_type": "markdown",
   "metadata": {},
   "source": [
    "- > Spines are the borders of the figure that contain the visualization. By default, an image has four spines\n",
    "- > You may want to remove some or all of the spines for various reasons. A figure with the left and bottom spines resembles traditional graphs. You can automatically take away the top and right spines using the **sns.despine()** function. "
   ]
  },
  {
   "cell_type": "code",
   "execution_count": null,
   "metadata": {},
   "outputs": [],
   "source": [
    "sns.boxplot(x)\n",
    "\n",
    "# sns.despine()\n",
    "\n",
    "# despine() function must be called after you have called your plot\n",
    "# despine() removes the spine from only one figure at a time and must be explicitly re-stated for each figure\n"
   ]
  },
  {
   "cell_type": "markdown",
   "metadata": {},
   "source": [
    "- > Not including any spines at all may be an aesthetic decision. You can also specify how many spines you want to include by calling **sns.despine()** and passing in the spines you want to get rid of, such as: **left, bottom, top, right**."
   ]
  },
  {
   "cell_type": "code",
   "execution_count": null,
   "metadata": {},
   "outputs": [],
   "source": [
    "sns.boxplot(x)\n",
    "sns.despine(left=True, bottom = True)\n",
    "# Removing the top and right spines from the plot is considered standard and only the bottom and left spines need to be \n",
    "# stated explicitly to remove all spines "
   ]
  },
  {
   "cell_type": "markdown",
   "metadata": {},
   "source": [
    "## 2.5  \"Run Command\" the micro mangers dream"
   ]
  },
  {
   "cell_type": "markdown",
   "metadata": {},
   "source": [
    "- > The run command allows the user to force any aspect of a plot to conform to arbitrary specification to any number of decimal places\n",
    "- > Example: **sns.set(rc={'figure.figsize': (16,3)})**\n",
    "- > A full list of run command arguments\n",
    "\n",
    "- >'axes.labelsize': 1.0,\n",
    "'axes.titlesize': 1.0,\n",
    "'font.size': 1.0,\n",
    "'grid.linewidth': 1.0,\n",
    "'legend.fontsize': 1.0,\n",
    "'lines.linewidth': 1.0,\n",
    "'lines.markeredgewidth': 1.0,\n",
    "'lines.markersize': 1.0,\n",
    "'patch.linewidth': 1.0,\n",
    "'xtick.labelsize': 1.0,\n",
    "'xtick.major.pad': 1.0,\n",
    "'xtick.major.width': 1.0,\n",
    "'xtick.minor.width': 1.0,\n",
    "'ytick.labelsize': 1.0,\n",
    "'ytick.major.pad': 1.0,\n",
    "'ytick.major.width': 1.0,\n",
    "'ytick.minor.width': 1.0}"
   ]
  },
  {
   "cell_type": "markdown",
   "metadata": {},
   "source": [
    "# Plots "
   ]
  },
  {
   "cell_type": "markdown",
   "metadata": {},
   "source": [
    "# 3.0 Histogram / Distplot\n"
   ]
  },
  {
   "cell_type": "markdown",
   "metadata": {},
   "source": [
    "- > Full Eplanation: https://seaborn.pydata.org/generated/seaborn.distplot.html"
   ]
  },
  {
   "cell_type": "code",
   "execution_count": null,
   "metadata": {},
   "outputs": [],
   "source": [
    "# seaborn calls this a distribution plot aka distplot\n",
    "# great for investigating the distribution of a variable\n",
    "\n",
    "# first create array containing data from dataframe\n",
    "# x = dataframe['Revenue'].values\n",
    "\n",
    "sns.distplot(x)"
   ]
  },
  {
   "cell_type": "markdown",
   "metadata": {},
   "source": [
    "- > Adding the mean / quick check for normal distribution"
   ]
  },
  {
   "cell_type": "markdown",
   "metadata": {},
   "source": [
    "## 3.1 Adding the Mean"
   ]
  },
  {
   "cell_type": "code",
   "execution_count": null,
   "metadata": {},
   "outputs": [],
   "source": [
    "mean = dataframe['Revenue'].mean()\n",
    "mean\n",
    "\n",
    "sns.distplot(x)\n",
    "\n",
    "# plt.axvline(mean, distance from x axis, length of line, color = 'red')\n",
    "# we choose 1 as length of line because it's max value of a histogram \n",
    "\n",
    "plt.axvline(mean,0, 1, color = 'red')\n"
   ]
  },
  {
   "cell_type": "code",
   "execution_count": null,
   "metadata": {},
   "outputs": [],
   "source": [
    "# Investigating the distribution of visitor adding the mean\n",
    "x = dataframe['Visitors'].values\n",
    "\n",
    "# Calculating the mean\n",
    "mean = dataframe['Visitors'].mean()\n",
    "\n",
    "sns.distplot(x, color='red')\n",
    "\n",
    "# plotting the mean\n",
    "\n",
    "plt.axvline(mean,0, 1, color = 'black')"
   ]
  },
  {
   "cell_type": "markdown",
   "metadata": {},
   "source": [
    "#  Two - dimensional plots"
   ]
  },
  {
   "cell_type": "markdown",
   "metadata": {},
   "source": [
    "- >  General format **ax = sns.type_of_plot( x = \" \", y = \" \", data = source_dataframe)**"
   ]
  },
  {
   "cell_type": "markdown",
   "metadata": {},
   "source": [
    "# 4.0 Line Plot"
   ]
  },
  {
   "cell_type": "markdown",
   "metadata": {},
   "source": [
    "- > Full Explanation: https://seaborn.pydata.org/generated/seaborn.lineplot.html"
   ]
  },
  {
   "cell_type": "code",
   "execution_count": null,
   "metadata": {},
   "outputs": [],
   "source": [
    "# Revenue by Date \n",
    "\n",
    "ax = sns.lineplot(x = 'Date', y = 'Revenue', data = dataframe)\n",
    "\n",
    "# Hard to read the 182 dates lets try something else"
   ]
  },
  {
   "cell_type": "markdown",
   "metadata": {},
   "source": [
    "- > remember your new best friend"
   ]
  },
  {
   "cell_type": "code",
   "execution_count": null,
   "metadata": {},
   "outputs": [],
   "source": [
    "dataframe.columns"
   ]
  },
  {
   "cell_type": "code",
   "execution_count": null,
   "metadata": {},
   "outputs": [],
   "source": [
    "# Revenue by week id\n",
    "\n",
    "ax = sns.lineplot(x = 'Week_ID', y = 'Revenue', data = dataframe)\n",
    "\n",
    "# error bands show the confidence interval an approximation of \n",
    "# variation within the population and sample size\n",
    "# the smaller the confidence interval the better"
   ]
  },
  {
   "cell_type": "markdown",
   "metadata": {},
   "source": [
    "## 4.1 Adding Categories \"Hue\""
   ]
  },
  {
   "cell_type": "code",
   "execution_count": null,
   "metadata": {},
   "outputs": [],
   "source": [
    "# Revenue by promotion\n",
    "\n",
    "# Let's change the size\n",
    "# sns.set(rc={'figure.figsize': (16, 5)})\n",
    "\n",
    "ax = sns.lineplot(x = 'Week_ID', y = 'Revenue', data = dataframe, hue = 'Promo')\n",
    "\n",
    "\n",
    "# hue is color"
   ]
  },
  {
   "cell_type": "markdown",
   "metadata": {},
   "source": [
    "## 4.2 Adding Categories \"Style\" / removing confidence intervals"
   ]
  },
  {
   "cell_type": "code",
   "execution_count": null,
   "metadata": {},
   "outputs": [],
   "source": [
    "# You can add distinguishing line types to distinguish categories by adding \n",
    "\n",
    "# style = 'column_name'\n",
    "# ci = false\n",
    "\n",
    "ax = sns.lineplot(x = 'Week_ID', y = 'Revenue', data = dataframe, hue = 'Promo', style = 'Promo', ci = False)"
   ]
  },
  {
   "cell_type": "markdown",
   "metadata": {},
   "source": [
    "## 4.4 Adding Markers"
   ]
  },
  {
   "cell_type": "code",
   "execution_count": null,
   "metadata": {},
   "outputs": [],
   "source": [
    "# markers = True\n",
    "\n",
    "ax = sns.lineplot(x = 'Week_ID', y = 'Revenue', data = dataframe, style = 'Promo', hue = 'Promo', ci = False, markers = True)"
   ]
  },
  {
   "cell_type": "markdown",
   "metadata": {},
   "source": [
    "## 4.5 Adding Palette"
   ]
  },
  {
   "cell_type": "code",
   "execution_count": null,
   "metadata": {},
   "outputs": [],
   "source": [
    "# markers = True\n",
    "\n",
    "ax = sns.lineplot(x = 'Month_ID', y = 'Revenue', data = dataframe, style = 'Promo', hue = 'Promo', \n",
    "                  palette = [\"red\", \"green\", \"blue\"], ci = False, markers = True)"
   ]
  },
  {
   "cell_type": "code",
   "execution_count": null,
   "metadata": {},
   "outputs": [],
   "source": [
    "# markers = True\n",
    "# Year comparison\n",
    "# Hue day of the week\n",
    "\n",
    "ax = sns.lineplot(x = 'Year', y = 'Revenue', data = dataframe, style = 'Promo', hue = 'Day_Name', ci = False, markers = True)"
   ]
  },
  {
   "cell_type": "markdown",
   "metadata": {},
   "source": [
    "# 5.0 Bar Plot"
   ]
  },
  {
   "cell_type": "markdown",
   "metadata": {},
   "source": [
    "- > Full Explanation: https://seaborn.pydata.org/generated/seaborn.barplot.html"
   ]
  },
  {
   "cell_type": "code",
   "execution_count": null,
   "metadata": {},
   "outputs": [],
   "source": [
    "# dataframe.columns"
   ]
  },
  {
   "cell_type": "code",
   "execution_count": null,
   "metadata": {
    "scrolled": true
   },
   "outputs": [],
   "source": [
    "\n",
    "ax = sns.barplot(x = 'Month_ID', y = 'Revenue', hue = 'Promo', data = dataframe, palette = [\"red\", \"green\", \"blue\"], ci = False)\n",
    "\n",
    "# \"Error bars\" signify confidence interval can be removed with ci = False\n",
    "# aggregates \"mean\" by default\n",
    "\n",
    "# dataframe[['Revenue','Month_ID']].groupby('Month_ID').agg({'Revenue':'sum'})\n",
    "# dataframe[['Revenue','Month_ID']].groupby('Month_ID').agg({'Revenue':'mean'})\n",
    "\n",
    "# ax = sns.barplot(x = 'Month_ID', y = 'Revenue', hue = 'Promo', data = dataframe, palette = [\"red\", \"green\", \"blue\"], ci = False)\n"
   ]
  },
  {
   "cell_type": "markdown",
   "metadata": {},
   "source": [
    "## 5.1 Switch Axes"
   ]
  },
  {
   "cell_type": "code",
   "execution_count": null,
   "metadata": {},
   "outputs": [],
   "source": [
    "# orient = 'h' switches orientation to horizontal\n",
    "# color = 'green' to change colors \n",
    "# https://htmlcolorcodes.com/color-picker/ and choose the color you want with the hex code #560FE5\n",
    "# size stting function below\n",
    "\n",
    "sns.set_style('ticks')\n",
    "ax = sns.barplot(x = 'Revenue', y = 'Year', hue = 'Promo', color = '#560FE5', data = dataframe, orient = 'h', ci = False)\n",
    "# you can make it more appropriate by replacing (color = '#560FE5') with (palette = [\"red\", \"green\", \"blue\"])"
   ]
  },
  {
   "cell_type": "markdown",
   "metadata": {},
   "source": [
    "# 6.0 Two - dimensional Box Plot  "
   ]
  },
  {
   "cell_type": "markdown",
   "metadata": {},
   "source": [
    "- > Full Explanation: https://seaborn.pydata.org/generated/seaborn.boxplot.html"
   ]
  },
  {
   "cell_type": "code",
   "execution_count": null,
   "metadata": {},
   "outputs": [],
   "source": [
    "\n",
    "# oof, that's ugly lets reset size\n",
    "sns.set(rc={'figure.figsize': (14, 8)})\n",
    "\n",
    "# might need a style update \n",
    "#sns.set_style('ticks')\n",
    "\n",
    "ax = sns.boxplot(x = 'Day_Name', y = 'Revenue', data = dataframe)\n"
   ]
  },
  {
   "cell_type": "markdown",
   "metadata": {},
   "source": [
    "## 6.1 Flip the axes"
   ]
  },
  {
   "cell_type": "code",
   "execution_count": null,
   "metadata": {},
   "outputs": [],
   "source": [
    "ax = sns.boxplot(x =  'Revenue', y = 'Day_Name', data = dataframe, color = 'cyan')"
   ]
  },
  {
   "cell_type": "markdown",
   "metadata": {},
   "source": [
    "## 6.2 Categorise by promotion with \"hue\""
   ]
  },
  {
   "cell_type": "code",
   "execution_count": null,
   "metadata": {},
   "outputs": [],
   "source": [
    "ax = sns.boxplot(x = 'Day_Name', y = 'Revenue', data = dataframe, color = 'cyan', hue = 'Promo')"
   ]
  },
  {
   "cell_type": "markdown",
   "metadata": {},
   "source": [
    "## 6.3 Combine Boxplot and Swarmplot!"
   ]
  },
  {
   "cell_type": "markdown",
   "metadata": {},
   "source": [
    "- > Full Explantion: https://seaborn.pydata.org/generated/seaborn.swarmplot.html"
   ]
  },
  {
   "cell_type": "code",
   "execution_count": null,
   "metadata": {},
   "outputs": [],
   "source": [
    "ax = sns.boxplot(x = 'Day_Name', y = 'Revenue', data = dataframe, color = 'cyan')\n",
    "ax = sns.swarmplot(x = 'Day_Name', y = 'Revenue', data = dataframe, color = 'red')"
   ]
  },
  {
   "cell_type": "markdown",
   "metadata": {},
   "source": [
    "# 7.0 Scatterplot"
   ]
  },
  {
   "cell_type": "markdown",
   "metadata": {},
   "source": [
    "- > Full Explanation: https://seaborn.pydata.org/generated/seaborn.scatterplot.html"
   ]
  },
  {
   "cell_type": "markdown",
   "metadata": {},
   "source": [
    "## 7.1 Investigate the realtionship between Marketing Spending and Revenue"
   ]
  },
  {
   "cell_type": "code",
   "execution_count": null,
   "metadata": {},
   "outputs": [],
   "source": [
    "# Note the marker designator, play with it, see what fits\n",
    "ax =sns.scatterplot(x = 'Marketing Spend' , y = 'Revenue', data = dataframe, color = 'green', marker = \"p\")"
   ]
  },
  {
   "cell_type": "code",
   "execution_count": null,
   "metadata": {},
   "outputs": [],
   "source": [
    "ax =sns.scatterplot(x = 'Marketing Spend' , y = 'Revenue', data = dataframe, hue = 'Promo', style = 'Promo' )\n",
    "# ax =sns.scatterplot(x = 'Marketing Spend' , y = 'Visitors', data = dataframe, hue = 'Promo', style = 'Promo' )"
   ]
  },
  {
   "cell_type": "markdown",
   "metadata": {},
   "source": [
    "## 7.2 Marketing, Visitors and Marker Size"
   ]
  },
  {
   "cell_type": "code",
   "execution_count": null,
   "metadata": {},
   "outputs": [],
   "source": [
    "ax =sns.scatterplot(x = 'Marketing Spend' , y = 'Visitors', data = dataframe, hue = 'Promo', style = 'Promo', \n",
    "                    size = 'Revenue', sizes = (20, 200),  palette = [\"green\", \"red\", \"blue\"] )"
   ]
  },
  {
   "cell_type": "markdown",
   "metadata": {},
   "source": [
    "# 8.0 LM Plots (Linear Model Plot)"
   ]
  },
  {
   "cell_type": "markdown",
   "metadata": {},
   "source": [
    "- > Full Explanation: https://seaborn.pydata.org/generated/seaborn.lmplot.html\n",
    "- > When thinking about how to assign variables to different facets, a general rule is that it makes sense to use hue for the most important **comparison**, followed by **col** and **row**."
   ]
  },
  {
   "cell_type": "code",
   "execution_count": null,
   "metadata": {},
   "outputs": [],
   "source": [
    "ax = sns.lmplot(x = \"Marketing Spend\", y = \"Revenue\", data = dataframe, height = 10, aspect = 1)\n",
    "\n",
    "# ax = sns.lmplot(x = \"Marketing Spend\", y = \"Revenue\", data = dataframe, height = 10, hue = 'Promo', palette = [\"green\", \"red\", \"blue\"], markers = [\"x\", \"+\", \"o\"], ci = False)"
   ]
  },
  {
   "cell_type": "markdown",
   "metadata": {},
   "source": [
    "## 8.1  Splitting Plots"
   ]
  },
  {
   "cell_type": "code",
   "execution_count": null,
   "metadata": {
    "scrolled": true
   },
   "outputs": [],
   "source": [
    "# ax = sns.lmplot(x = \"Marketing Spend\", y = \"Revenue\", data = dataframe, height = 10, aspect = 1)\n",
    "\n",
    "# adding col = 'Promo'\n",
    "# kws -> key word spotting\n",
    "\n",
    "ax = sns.lmplot(x = \"Marketing Spend\", y = \"Revenue\", data = dataframe, height = 10, \n",
    "                col = 'Promo', line_kws = {'color': 'red'}, scatter_kws = {'color': 'blue'}, ci = False)"
   ]
  },
  {
   "cell_type": "code",
   "execution_count": null,
   "metadata": {},
   "outputs": [],
   "source": [
    "x = sns.lmplot(x = \"Marketing Spend\", y = \"Revenue\", data = dataframe, height = 10, \n",
    "                col = 'Day_Name', line_kws = {'color': 'red'},\n",
    "               scatter_kws = {'color': 'blue'}, ci = False)"
   ]
  },
  {
   "cell_type": "markdown",
   "metadata": {},
   "source": [
    "## 8.2 Column wrapping"
   ]
  },
  {
   "cell_type": "code",
   "execution_count": null,
   "metadata": {},
   "outputs": [],
   "source": [
    "# If you have too many plots to fit cofortably\n",
    "# col_wrap = x\n",
    "\n",
    "sns.lmplot(x = \"Marketing Spend\", y = \"Revenue\", data = dataframe, height = 10, \n",
    "                col = 'Day_Name', col_wrap = 2, line_kws = {'color': 'red'},\n",
    "               scatter_kws = {'color': 'blue'}, ci = False)"
   ]
  },
  {
   "cell_type": "markdown",
   "metadata": {},
   "source": [
    "# 9.0 Joint Plots"
   ]
  },
  {
   "cell_type": "markdown",
   "metadata": {},
   "source": [
    "- > Full Explanation: https://seaborn.pydata.org/generated/seaborn.jointplot.html\n",
    "- > Draw a plot of two variables with bivariate and univariate graphs"
   ]
  },
  {
   "cell_type": "code",
   "execution_count": null,
   "metadata": {},
   "outputs": [],
   "source": [
    "ax = sns.jointplot(x = 'Marketing Spend', y = 'Revenue', data = dataframe, \n",
    "                   height = 10, kind = 'reg', ci = False)"
   ]
  },
  {
   "cell_type": "markdown",
   "metadata": {},
   "source": [
    "# 10.0 Heat Map"
   ]
  },
  {
   "cell_type": "markdown",
   "metadata": {},
   "source": [
    "- > Full Explanation: https://seaborn.pydata.org/generated/seaborn.heatmap.html\n",
    "- > Plot rectangular data as a color-encoded matrix."
   ]
  },
  {
   "cell_type": "markdown",
   "metadata": {},
   "source": [
    "## 10.1 Create a Correlation Matrix"
   ]
  },
  {
   "cell_type": "code",
   "execution_count": null,
   "metadata": {
    "scrolled": true
   },
   "outputs": [],
   "source": [
    "# you will need to create a correlation dataset, all numeric values\n",
    "# default .corr() is a pearson correlation giving value of -1 to 1\n",
    "\n",
    "corr_dataframe = dataframe[['Visitors', 'Revenue', 'Marketing Spend']].corr()\n",
    "corr_dataframe"
   ]
  },
  {
   "cell_type": "markdown",
   "metadata": {},
   "source": [
    "## 10.2 Create basic heat map"
   ]
  },
  {
   "cell_type": "code",
   "execution_count": null,
   "metadata": {},
   "outputs": [],
   "source": [
    "hm = sns.heatmap(corr_dataframe, annot = True)"
   ]
  },
  {
   "cell_type": "markdown",
   "metadata": {},
   "source": [
    "## 10.3 Change size of Annotation"
   ]
  },
  {
   "cell_type": "code",
   "execution_count": null,
   "metadata": {},
   "outputs": [],
   "source": [
    "hm = sns.heatmap(corr_dataframe, annot = True, annot_kws = {'size':'50'})"
   ]
  },
  {
   "cell_type": "markdown",
   "metadata": {},
   "source": [
    "## 10.4 Change Column Names"
   ]
  },
  {
   "cell_type": "code",
   "execution_count": null,
   "metadata": {},
   "outputs": [],
   "source": [
    "col = ['Visitors Corr', 'Revenue Corr', 'Marketing Corr']\n",
    "\n",
    "hm = sns.heatmap(corr_dataframe, annot = True, annot_kws = {'size':'50'}, xticklabels = col, yticklabels = col)"
   ]
  },
  {
   "cell_type": "markdown",
   "metadata": {},
   "source": [
    "## 10.5 Change Heatmap Theme"
   ]
  },
  {
   "cell_type": "code",
   "execution_count": null,
   "metadata": {},
   "outputs": [],
   "source": [
    "col = ['Visitors Corr', 'Marketing Corr', 'Revenue Corr']\n",
    "\n",
    "hm = sns.heatmap(corr_dataframe, annot = True, annot_kws = {'size':'50'}, \n",
    "                 xticklabels = col, yticklabels = col, cmap = 'copper')"
   ]
  },
  {
   "cell_type": "markdown",
   "metadata": {},
   "source": [
    "# Possible color palette options"
   ]
  },
  {
   "cell_type": "markdown",
   "metadata": {},
   "source": [
    "Accent, Accent_r, Blues, Blues_r, BrBG, BrBG_r, BuGn, BuGn_r, BuPu, BuPu_r, CMRmap, CMRmap_r, Dark2, Dark2_r, GnBu, GnBu_r, Greens, Greens_r, Greys, Greys_r, OrRd, OrRd_r, Oranges, Oranges_r, PRGn, PRGn_r, Paired, Paired_r, Pastel1, Pastel1_r, Pastel2, Pastel2_r, PiYG, PiYG_r, PuBu, PuBuGn, PuBuGn_r, PuBu_r, PuOr, PuOr_r, PuRd, PuRd_r, Purples, Purples_r, RdBu, RdBu_r, RdGy, RdGy_r, RdPu, RdPu_r, RdYlBu, RdYlBu_r, RdYlGn, RdYlGn_r, Reds, Reds_r, Set1, Set1_r, Set2, Set2_r, Set3, Set3_r, Spectral, Spectral_r, Wistia, Wistia_r, YlGn, YlGnBu, YlGnBu_r, YlGn_r, YlOrBr, YlOrBr_r, YlOrRd, YlOrRd_r, afmhot, afmhot_r, autumn, autumn_r, binary, binary_r, bone, bone_r, brg, brg_r, bwr, bwr_r, cividis, cividis_r, cool, cool_r, coolwarm, coolwarm_r, copper, copper_r, cubehelix, cubehelix_r, flag, flag_r, gist_earth, gist_earth_r, gist_gray, gist_gray_r, gist_heat, gist_heat_r, gist_ncar, gist_ncar_r, gist_rainbow, gist_rainbow_r, gist_stern, gist_stern_r, gist_yarg, gist_yarg_r, gnuplot, gnuplot2, gnuplot2_r, gnuplot_r, gray, gray_r, hot, hot_r, hsv, hsv_r, icefire, icefire_r, inferno, inferno_r, jet, jet_r, magma, magma_r, mako, mako_r, nipy_spectral, nipy_spectral_r, ocean, ocean_r, pink, pink_r, plasma, plasma_r, prism, prism_r, rainbow, rainbow_r, rocket, rocket_r, seismic, seismic_r, spring, spring_r, summer, summer_r, tab10, tab10_r, tab20, tab20_r, tab20b, tab20b_r, tab20c, tab20c_r, terrain, terrain_r, twilight, twilight_r, twilight_shifted, twilight_shifted_r, viridis, viridis_r, vlag, vlag_r, winter, winter_r"
   ]
  },
  {
   "cell_type": "markdown",
   "metadata": {},
   "source": [
    "# 11.0 Pairplot, the nuclear option"
   ]
  },
  {
   "cell_type": "markdown",
   "metadata": {},
   "source": [
    "- > Full Explanation: https://seaborn.pydata.org/generated/seaborn.pairplot.html\n",
    "\n",
    "- > Plot pairwise relationships in a dataset.\n",
    "\n",
    "- > By default, this function will create a grid of Axes such that each numeric variable in data will by shared in the y-axis across a single row and in the x-axis across a single column. The diagonal Axes are treated differently, drawing a plot to show the univariate distribution of the data for the variable in that column."
   ]
  },
  {
   "cell_type": "code",
   "execution_count": null,
   "metadata": {},
   "outputs": [],
   "source": [
    "sns.pairplot(dataframe)\n",
    "# This is a time consuming and expensive procedure\n",
    "\n",
    "# sns.pairplot(dataframe, plot_kws = {\"color\": \"green\"})"
   ]
  },
  {
   "cell_type": "markdown",
   "metadata": {},
   "source": [
    "## 11.1 Trim the fat"
   ]
  },
  {
   "cell_type": "code",
   "execution_count": null,
   "metadata": {},
   "outputs": [],
   "source": [
    "sns.pairplot(dataframe[['Revenue','Visitors','Marketing Spend']], plot_kws = {\"color\": \"green\"}, height = 10)"
   ]
  },
  {
   "cell_type": "markdown",
   "metadata": {},
   "source": [
    "## 11.2 Diferentiate by hue  / Promo "
   ]
  },
  {
   "cell_type": "code",
   "execution_count": null,
   "metadata": {},
   "outputs": [],
   "source": [
    "sns.pairplot(dataframe[['Revenue','Visitors','Marketing Spend', 'Promo']], hue = 'Promo', height = 10)"
   ]
  },
  {
   "cell_type": "markdown",
   "metadata": {},
   "source": [
    "## 11.3 Add linear regression"
   ]
  },
  {
   "cell_type": "code",
   "execution_count": null,
   "metadata": {},
   "outputs": [],
   "source": [
    "sns.pairplot(dataframe[['Revenue','Visitors','Marketing Spend', 'Promo']], \n",
    "             hue = 'Promo', height = 10, kind = 'reg')"
   ]
  }
 ],
 "metadata": {
  "kernelspec": {
   "display_name": "Python 3",
   "language": "python",
   "name": "python3"
  },
  "language_info": {
   "codemirror_mode": {
    "name": "ipython",
    "version": 3
   },
   "file_extension": ".py",
   "mimetype": "text/x-python",
   "name": "python",
   "nbconvert_exporter": "python",
   "pygments_lexer": "ipython3",
   "version": "3.7.3"
  }
 },
 "nbformat": 4,
 "nbformat_minor": 4
}
